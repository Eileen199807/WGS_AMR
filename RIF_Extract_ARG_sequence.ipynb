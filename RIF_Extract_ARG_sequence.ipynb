{
 "cells": [
  {
   "cell_type": "code",
   "execution_count": 30,
   "metadata": {},
   "outputs": [],
   "source": [
    "import os\n",
    "import shutil\n",
    "import glob"
   ]
  },
  {
   "cell_type": "code",
   "execution_count": null,
   "metadata": {},
   "outputs": [],
   "source": [
    "source_folder = r\"C:\\Users\\liuwa\\Desktop\\AMRFINDER_FASTA_GENE\\amrfinderplus\"\n",
    "destination_folder = r\"C:\\Users\\liuwa\\Desktop\\AMRFINDER_FASTA_GENE\\amrfinderplus_264\""
   ]
  },
  {
   "cell_type": "code",
   "execution_count": null,
   "metadata": {},
   "outputs": [],
   "source": [
    "ID = pd.read_csv(\"ID.lst.txt\")"
   ]
  },
  {
   "cell_type": "code",
   "execution_count": null,
   "metadata": {},
   "outputs": [],
   "source": [
    "ID_list = ID[\"ID\"].tolist()"
   ]
  },
  {
   "cell_type": "code",
   "execution_count": null,
   "metadata": {},
   "outputs": [],
   "source": [
    "len(ID_list)"
   ]
  },
  {
   "cell_type": "code",
   "execution_count": null,
   "metadata": {},
   "outputs": [],
   "source": [
    "for file_id in ID_list:\n",
    "    file_name = f\"{file_id}\"\n",
    "    source_file = os.path.join(source_folder, file_name)\n",
    "    destination_file = os.path.join(destination_folder, file_name)\n",
    "\n",
    "    if os.path.exists(source_file):\n",
    "        shutil.copy(source_file, destination_file)\n",
    "        print(f\"Copied {file_name} from {source_folder} to {destination_folder}\")\n",
    "    else:\n",
    "        print(f\"{file_name} not found in the source folder\")"
   ]
  },
  {
   "cell_type": "code",
   "execution_count": null,
   "metadata": {},
   "outputs": [],
   "source": [
    "folder_path = r\"C:\\Users\\liuwa\\Desktop\\AMRFINDER_FASTA_GENE\\REF_264_version\\AMRfinder\"\n",
    "\n",
    "for file in os.listdir(folder_path):\n",
    "    file_path = os.path.join(folder_path, file)\n",
    "    df = pd.read_csv(file_path, sep=\"\\t\")\n",
    "    df[\"filename\"] = os.path.splitext(file)[0]\n",
    "\n",
    "    df.to_csv(file_path, index=False, sep=\"\\t\")\n",
    "    print(f\"Added 'filename' column to {file}\")"
   ]
  },
  {
   "cell_type": "code",
   "execution_count": 36,
   "metadata": {},
   "outputs": [
    {
     "name": "stdout",
     "output_type": "stream",
     "text": [
      "Filtered and merged data saved to merged_file.csv\n"
     ]
    }
   ],
   "source": [
    "files = glob.glob(r\"C:\\Users\\liuwa\\Desktop\\AMRFINDER_FASTA_GENE\\REF_264_version\\AMRfinder\\*\")\n",
    "\n",
    "dfs = []\n",
    "\n",
    "for file in files:\n",
    "    df = pd.read_csv(file,sep=\"\\t\")\n",
    "    filtered_df = df[(df[\"% Coverage of reference sequence\"] > 90) & (df[\"% Identity to reference sequence\"] > 95)]\n",
    "    dfs.append(filtered_df)\n",
    "\n",
    "merged_df = pd.concat(dfs, ignore_index=True)\n",
    "\n",
    "merged_df.to_csv(\"merged_file.csv\", index=False)\n",
    "print(f\"Filtered and merged data saved to merged_file.csv\")"
   ]
  },
  {
   "cell_type": "code",
   "execution_count": 39,
   "metadata": {},
   "outputs": [
    {
     "name": "stdout",
     "output_type": "stream",
     "text": [
      "Saved rows with Gene symbol 'blaCMY-2' to C:\\Users\\liuwa\\Desktop\\AMRFINDER_FASTA_GENE\\Gene\\Beta-lactam/blaCMY-2.csv\n",
      "Saved rows with Gene symbol 'blaEC' to C:\\Users\\liuwa\\Desktop\\AMRFINDER_FASTA_GENE\\Gene\\Beta-lactam/blaEC.csv\n",
      "Saved rows with Gene symbol 'blaTEM-1' to C:\\Users\\liuwa\\Desktop\\AMRFINDER_FASTA_GENE\\Gene\\Beta-lactam/blaTEM-1.csv\n",
      "Saved rows with Gene symbol 'blaLAP-2' to C:\\Users\\liuwa\\Desktop\\AMRFINDER_FASTA_GENE\\Gene\\Beta-lactam/blaLAP-2.csv\n",
      "Saved rows with Gene symbol 'blaOXA-10' to C:\\Users\\liuwa\\Desktop\\AMRFINDER_FASTA_GENE\\Gene\\Beta-lactam/blaOXA-10.csv\n",
      "Saved rows with Gene symbol 'blaSHV' to C:\\Users\\liuwa\\Desktop\\AMRFINDER_FASTA_GENE\\Gene\\Beta-lactam/blaSHV.csv\n",
      "Saved rows with Gene symbol 'blaSHV-1' to C:\\Users\\liuwa\\Desktop\\AMRFINDER_FASTA_GENE\\Gene\\Beta-lactam/blaSHV-1.csv\n",
      "Saved rows with Gene symbol 'blaSHV-11' to C:\\Users\\liuwa\\Desktop\\AMRFINDER_FASTA_GENE\\Gene\\Beta-lactam/blaSHV-11.csv\n",
      "Saved rows with Gene symbol 'blaSHV-27' to C:\\Users\\liuwa\\Desktop\\AMRFINDER_FASTA_GENE\\Gene\\Beta-lactam/blaSHV-27.csv\n",
      "Saved rows with Gene symbol 'mecA' to C:\\Users\\liuwa\\Desktop\\AMRFINDER_FASTA_GENE\\Gene\\Beta-lactam/mecA.csv\n",
      "Saved rows with Gene symbol 'blaI' to C:\\Users\\liuwa\\Desktop\\AMRFINDER_FASTA_GENE\\Gene\\Beta-lactam/blaI.csv\n",
      "Saved rows with Gene symbol 'blaPC1' to C:\\Users\\liuwa\\Desktop\\AMRFINDER_FASTA_GENE\\Gene\\Beta-lactam/blaPC1.csv\n",
      "Saved rows with Gene symbol 'blaR1' to C:\\Users\\liuwa\\Desktop\\AMRFINDER_FASTA_GENE\\Gene\\Beta-lactam/blaR1.csv\n",
      "Saved rows with Gene symbol 'blaZ' to C:\\Users\\liuwa\\Desktop\\AMRFINDER_FASTA_GENE\\Gene\\Beta-lactam/blaZ.csv\n"
     ]
    }
   ],
   "source": [
    "input_file = \"merged_file.csv\"\n",
    "output_folder = r\"C:\\Users\\liuwa\\Desktop\\AMRFINDER_FASTA_GENE\\Gene\\Beta-lactam\"\n",
    "\n",
    "gene_symbols = [\"blaCMY-2\", \"blaEC\", \"blaTEM-1\",\"blaLAP-2\",\"blaOXA-10\",\"blaSHV\",\"blaSHV-1\",\"blaSHV-11\",\"blaSHV-27\",\"mecA\",\"blaI\",\"blaPC1\",\"blaR1\",\"blaZ\"]\n",
    "\n",
    "df = pd.read_csv(input_file)\n",
    "\n",
    "for symbol in gene_symbols:\n",
    "    filtered_df = df[df[\"Gene symbol\"] == symbol]\n",
    "\n",
    "    output_file = f\"{output_folder}/{symbol}.csv\"\n",
    "    filtered_df.to_csv(output_file, index=False)\n",
    "    print(f\"Saved rows with Gene symbol '{symbol}' to {output_file}\")"
   ]
  },
  {
   "cell_type": "code",
   "execution_count": 41,
   "metadata": {},
   "outputs": [
    {
     "name": "stdout",
     "output_type": "stream",
     "text": [
      "Saved rows with Gene symbol 'dfrA1' to C:\\Users\\liuwa\\Desktop\\AMRFINDER_FASTA_GENE\\Gene\\Folate pathway inhibitors/dfrA1.csv\n",
      "Saved rows with Gene symbol 'dfrA12' to C:\\Users\\liuwa\\Desktop\\AMRFINDER_FASTA_GENE\\Gene\\Folate pathway inhibitors/dfrA12.csv\n",
      "Saved rows with Gene symbol 'dfrA14' to C:\\Users\\liuwa\\Desktop\\AMRFINDER_FASTA_GENE\\Gene\\Folate pathway inhibitors/dfrA14.csv\n",
      "Saved rows with Gene symbol 'dfrA17' to C:\\Users\\liuwa\\Desktop\\AMRFINDER_FASTA_GENE\\Gene\\Folate pathway inhibitors/dfrA17.csv\n",
      "Saved rows with Gene symbol 'dfrA27' to C:\\Users\\liuwa\\Desktop\\AMRFINDER_FASTA_GENE\\Gene\\Folate pathway inhibitors/dfrA27.csv\n",
      "Saved rows with Gene symbol 'dfrE' to C:\\Users\\liuwa\\Desktop\\AMRFINDER_FASTA_GENE\\Gene\\Folate pathway inhibitors/dfrE.csv\n",
      "Saved rows with Gene symbol 'sul1' to C:\\Users\\liuwa\\Desktop\\AMRFINDER_FASTA_GENE\\Gene\\Folate pathway inhibitors/sul1.csv\n",
      "Saved rows with Gene symbol 'sul2' to C:\\Users\\liuwa\\Desktop\\AMRFINDER_FASTA_GENE\\Gene\\Folate pathway inhibitors/sul2.csv\n",
      "Saved rows with Gene symbol 'sul3' to C:\\Users\\liuwa\\Desktop\\AMRFINDER_FASTA_GENE\\Gene\\Folate pathway inhibitors/sul3.csv\n"
     ]
    }
   ],
   "source": [
    "input_file = \"merged_file.csv\"\n",
    "output_folder = r\"C:\\Users\\liuwa\\Desktop\\AMRFINDER_FASTA_GENE\\Gene\\Folate pathway inhibitors\"\n",
    "\n",
    "gene_symbols = [\"dfrA1\", \"dfrA12\", \"dfrA14\",\"dfrA17\",\"dfrA27\",\"dfrE\",\"sul1\",\"sul2\",\"sul3\"]\n",
    "\n",
    "df = pd.read_csv(input_file)\n",
    "\n",
    "for symbol in gene_symbols:\n",
    "    filtered_df = df[df[\"Gene symbol\"] == symbol]\n",
    "\n",
    "    output_file = f\"{output_folder}/{symbol}.csv\"\n",
    "    filtered_df.to_csv(output_file, index=False)\n",
    "    print(f\"Saved rows with Gene symbol '{symbol}' to {output_file}\")"
   ]
  },
  {
   "cell_type": "code",
   "execution_count": 42,
   "metadata": {},
   "outputs": [
    {
     "name": "stdout",
     "output_type": "stream",
     "text": [
      "Saved rows with Gene symbol 'mph(A)' to C:\\Users\\liuwa\\Desktop\\AMRFINDER_FASTA_GENE\\Gene\\Macrolides/mph(A).csv\n"
     ]
    }
   ],
   "source": [
    "input_file = \"merged_file.csv\"\n",
    "output_folder = r\"C:\\Users\\liuwa\\Desktop\\AMRFINDER_FASTA_GENE\\Gene\\Macrolides\"\n",
    "\n",
    "gene_symbols = [\"mph(A)\"]\n",
    "\n",
    "df = pd.read_csv(input_file)\n",
    "\n",
    "for symbol in gene_symbols:\n",
    "    filtered_df = df[df[\"Gene symbol\"] == symbol]\n",
    "\n",
    "    output_file = f\"{output_folder}/{symbol}.csv\"\n",
    "    filtered_df.to_csv(output_file, index=False)\n",
    "    print(f\"Saved rows with Gene symbol '{symbol}' to {output_file}\")"
   ]
  },
  {
   "cell_type": "code",
   "execution_count": 43,
   "metadata": {},
   "outputs": [
    {
     "name": "stdout",
     "output_type": "stream",
     "text": [
      "Saved rows with Gene symbol 'lnu(F)' to C:\\Users\\liuwa\\Desktop\\AMRFINDER_FASTA_GENE\\Gene\\Lincosamides/lnu(F).csv\n",
      "Saved rows with Gene symbol 'lnu(A)' to C:\\Users\\liuwa\\Desktop\\AMRFINDER_FASTA_GENE\\Gene\\Lincosamides/lnu(A).csv\n",
      "Saved rows with Gene symbol 'Ansamycins' to C:\\Users\\liuwa\\Desktop\\AMRFINDER_FASTA_GENE\\Gene\\Lincosamides/Ansamycins.csv\n",
      "Saved rows with Gene symbol 'arr-2' to C:\\Users\\liuwa\\Desktop\\AMRFINDER_FASTA_GENE\\Gene\\Lincosamides/arr-2.csv\n",
      "Saved rows with Gene symbol 'arr-3' to C:\\Users\\liuwa\\Desktop\\AMRFINDER_FASTA_GENE\\Gene\\Lincosamides/arr-3.csv\n"
     ]
    }
   ],
   "source": [
    "input_file = \"merged_file.csv\"\n",
    "output_folder = r\"C:\\Users\\liuwa\\Desktop\\AMRFINDER_FASTA_GENE\\Gene\\Lincosamides\"\n",
    "\n",
    "gene_symbols = [\"lnu(F)\",\"lnu(A)\",\"Ansamycins\",\"arr-2\",\"arr-3\"]\n",
    "\n",
    "df = pd.read_csv(input_file)\n",
    "\n",
    "for symbol in gene_symbols:\n",
    "    filtered_df = df[df[\"Gene symbol\"] == symbol]\n",
    "\n",
    "    output_file = f\"{output_folder}/{symbol}.csv\"\n",
    "    filtered_df.to_csv(output_file, index=False)\n",
    "    print(f\"Saved rows with Gene symbol '{symbol}' to {output_file}\")"
   ]
  },
  {
   "cell_type": "code",
   "execution_count": 44,
   "metadata": {},
   "outputs": [
    {
     "name": "stdout",
     "output_type": "stream",
     "text": [
      "Saved rows with Gene symbol 'tet(A)' to C:\\Users\\liuwa\\Desktop\\AMRFINDER_FASTA_GENE\\Gene\\Tetracyclines/tet(A).csv\n",
      "Saved rows with Gene symbol 'tet(B)' to C:\\Users\\liuwa\\Desktop\\AMRFINDER_FASTA_GENE\\Gene\\Tetracyclines/tet(B).csv\n",
      "Saved rows with Gene symbol 'tet(M)' to C:\\Users\\liuwa\\Desktop\\AMRFINDER_FASTA_GENE\\Gene\\Tetracyclines/tet(M).csv\n",
      "Saved rows with Gene symbol 'tet(38)' to C:\\Users\\liuwa\\Desktop\\AMRFINDER_FASTA_GENE\\Gene\\Tetracyclines/tet(38).csv\n",
      "Saved rows with Gene symbol 'tet(L)' to C:\\Users\\liuwa\\Desktop\\AMRFINDER_FASTA_GENE\\Gene\\Tetracyclines/tet(L).csv\n"
     ]
    }
   ],
   "source": [
    "input_file = \"merged_file.csv\"\n",
    "output_folder = r\"C:\\Users\\liuwa\\Desktop\\AMRFINDER_FASTA_GENE\\Gene\\Tetracyclines\"\n",
    "\n",
    "gene_symbols = [\"tet(A)\",\"tet(B)\",\"tet(M)\",\"tet(38)\",\"tet(L)\"]\n",
    "\n",
    "df = pd.read_csv(input_file)\n",
    "\n",
    "for symbol in gene_symbols:\n",
    "    filtered_df = df[df[\"Gene symbol\"] == symbol]\n",
    "\n",
    "    output_file = f\"{output_folder}/{symbol}.csv\"\n",
    "    filtered_df.to_csv(output_file, index=False)\n",
    "    print(f\"Saved rows with Gene symbol '{symbol}' to {output_file}\")"
   ]
  },
  {
   "cell_type": "code",
   "execution_count": 52,
   "metadata": {},
   "outputs": [
    {
     "name": "stdout",
     "output_type": "stream",
     "text": [
      "Saved rows with Gene symbol 'aac(3)-IId' to C:\\Users\\liuwa\\Desktop\\AMRFINDER_FASTA_GENE\\Gene\\Aminoglycosides/aac(3)-IId.csv\n",
      "Saved rows with Gene symbol 'aadD1' to C:\\Users\\liuwa\\Desktop\\AMRFINDER_FASTA_GENE\\Gene\\Aminoglycosides/aadD1.csv\n",
      "Saved rows with Gene symbol 'aadA1' to C:\\Users\\liuwa\\Desktop\\AMRFINDER_FASTA_GENE\\Gene\\Aminoglycosides/aadA1.csv\n",
      "Saved rows with Gene symbol 'aadA2' to C:\\Users\\liuwa\\Desktop\\AMRFINDER_FASTA_GENE\\Gene\\Aminoglycosides/aadA2.csv\n",
      "Saved rows with Gene symbol 'aadA25' to C:\\Users\\liuwa\\Desktop\\AMRFINDER_FASTA_GENE\\Gene\\Aminoglycosides/aadA25.csv\n",
      "Saved rows with Gene symbol 'aph(3'')-Ib' to C:\\Users\\liuwa\\Desktop\\AMRFINDER_FASTA_GENE\\Gene\\Aminoglycosides/aph(3'')-Ib.csv\n",
      "Saved rows with Gene symbol 'aph(3')-Ia' to C:\\Users\\liuwa\\Desktop\\AMRFINDER_FASTA_GENE\\Gene\\Aminoglycosides/aph(3')-Ia.csv\n",
      "Saved rows with Gene symbol 'aph(6)-Id' to C:\\Users\\liuwa\\Desktop\\AMRFINDER_FASTA_GENE\\Gene\\Aminoglycosides/aph(6)-Id.csv\n",
      "Saved rows with Gene symbol 'Polymyxins' to C:\\Users\\liuwa\\Desktop\\AMRFINDER_FASTA_GENE\\Gene\\Aminoglycosides/Polymyxins.csv\n",
      "Saved rows with Gene symbol 'pmrB_R256G' to C:\\Users\\liuwa\\Desktop\\AMRFINDER_FASTA_GENE\\Gene\\Aminoglycosides/pmrB_R256G.csv\n",
      "Saved rows with Gene symbol 'pmrB_Y358N' to C:\\Users\\liuwa\\Desktop\\AMRFINDER_FASTA_GENE\\Gene\\Aminoglycosides/pmrB_Y358N.csv\n",
      "Saved rows with Gene symbol 'pmrB_E123D' to C:\\Users\\liuwa\\Desktop\\AMRFINDER_FASTA_GENE\\Gene\\Aminoglycosides/pmrB_E123D.csv\n"
     ]
    }
   ],
   "source": [
    "input_file = \"merged_file.csv\"\n",
    "output_folder = r\"C:\\Users\\liuwa\\Desktop\\AMRFINDER_FASTA_GENE\\Gene\\Aminoglycosides\"\n",
    "\n",
    "gene_symbols = [\"aac(3)-IId\", \"aadD1\",\"aadA1\",\"aadA2\",\"aadA25\",\"aph(3'')-Ib\",\"aph(3')-Ia\",\"aph(6)-Id\",\"Polymyxins\",\"pmrB_R256G\",\"pmrB_Y358N\",\"pmrB_E123D\"]\n",
    "\n",
    "df = pd.read_csv(input_file)\n",
    "\n",
    "for symbol in gene_symbols:\n",
    "    filtered_df = df[df[\"Gene symbol\"] == symbol]\n",
    "\n",
    "    output_file = f\"{output_folder}/{symbol}.csv\"\n",
    "    filtered_df.to_csv(output_file, index=False)\n",
    "    print(f\"Saved rows with Gene symbol '{symbol}' to {output_file}\")"
   ]
  },
  {
   "cell_type": "code",
   "execution_count": 48,
   "metadata": {},
   "outputs": [
    {
     "name": "stdout",
     "output_type": "stream",
     "text": [
      "Saved rows with Gene symbol 'cmlA1' to C:\\Users\\liuwa\\Desktop\\AMRFINDER_FASTA_GENE\\Gene\\Amphenicols/cmlA1.csv\n",
      "Saved rows with Gene symbol 'cmlA5' to C:\\Users\\liuwa\\Desktop\\AMRFINDER_FASTA_GENE\\Gene\\Amphenicols/cmlA5.csv\n",
      "Saved rows with Gene symbol 'floR' to C:\\Users\\liuwa\\Desktop\\AMRFINDER_FASTA_GENE\\Gene\\Amphenicols/floR.csv\n",
      "Saved rows with Gene symbol 'fexA' to C:\\Users\\liuwa\\Desktop\\AMRFINDER_FASTA_GENE\\Gene\\Amphenicols/fexA.csv\n"
     ]
    }
   ],
   "source": [
    "input_file = \"merged_file.csv\"\n",
    "output_folder = r\"C:\\Users\\liuwa\\Desktop\\AMRFINDER_FASTA_GENE\\Gene\\Amphenicols\"\n",
    "\n",
    "gene_symbols = [\"cmlA1\", \"cmlA5\",\"floR\",\"fexA\"]\n",
    "\n",
    "df = pd.read_csv(input_file)\n",
    "\n",
    "for symbol in gene_symbols:\n",
    "    filtered_df = df[df[\"Gene symbol\"] == symbol]\n",
    "\n",
    "    output_file = f\"{output_folder}/{symbol}.csv\"\n",
    "    filtered_df.to_csv(output_file, index=False)\n",
    "    print(f\"Saved rows with Gene symbol '{symbol}' to {output_file}\")"
   ]
  },
  {
   "cell_type": "code",
   "execution_count": 49,
   "metadata": {},
   "outputs": [
    {
     "name": "stdout",
     "output_type": "stream",
     "text": [
      "Saved rows with Gene symbol 'fosA' to C:\\Users\\liuwa\\Desktop\\AMRFINDER_FASTA_GENE\\Gene\\Phosphonic acids/fosA.csv\n",
      "Saved rows with Gene symbol 'fosB' to C:\\Users\\liuwa\\Desktop\\AMRFINDER_FASTA_GENE\\Gene\\Phosphonic acids/fosB.csv\n"
     ]
    }
   ],
   "source": [
    "input_file = \"merged_file.csv\"\n",
    "output_folder = r\"C:\\Users\\liuwa\\Desktop\\AMRFINDER_FASTA_GENE\\Gene\\Phosphonic acids\"\n",
    "\n",
    "gene_symbols = [\"fosA\", \"fosB\"]\n",
    "\n",
    "df = pd.read_csv(input_file)\n",
    "\n",
    "for symbol in gene_symbols:\n",
    "    filtered_df = df[df[\"Gene symbol\"] == symbol]\n",
    "\n",
    "    output_file = f\"{output_folder}/{symbol}.csv\"\n",
    "    filtered_df.to_csv(output_file, index=False)\n",
    "    print(f\"Saved rows with Gene symbol '{symbol}' to {output_file}\")"
   ]
  },
  {
   "cell_type": "code",
   "execution_count": 50,
   "metadata": {},
   "outputs": [
    {
     "name": "stdout",
     "output_type": "stream",
     "text": [
      "Saved rows with Gene symbol 'mepA' to C:\\Users\\liuwa\\Desktop\\AMRFINDER_FASTA_GENE\\Gene\\Multidrug/mepA.csv\n",
      "Saved rows with Gene symbol 'cyaA' to C:\\Users\\liuwa\\Desktop\\AMRFINDER_FASTA_GENE\\Gene\\Multidrug/cyaA.csv\n",
      "Saved rows with Gene symbol 'glpT' to C:\\Users\\liuwa\\Desktop\\AMRFINDER_FASTA_GENE\\Gene\\Multidrug/glpT.csv\n",
      "Saved rows with Gene symbol 'acrF' to C:\\Users\\liuwa\\Desktop\\AMRFINDER_FASTA_GENE\\Gene\\Multidrug/acrF.csv\n",
      "Saved rows with Gene symbol 'mdtM' to C:\\Users\\liuwa\\Desktop\\AMRFINDER_FASTA_GENE\\Gene\\Multidrug/mdtM.csv\n",
      "Saved rows with Gene symbol 'emrD' to C:\\Users\\liuwa\\Desktop\\AMRFINDER_FASTA_GENE\\Gene\\Multidrug/emrD.csv\n",
      "Saved rows with Gene symbol 'erm(B)' to C:\\Users\\liuwa\\Desktop\\AMRFINDER_FASTA_GENE\\Gene\\Multidrug/erm(B).csv\n",
      "Saved rows with Gene symbol 'erm(C)' to C:\\Users\\liuwa\\Desktop\\AMRFINDER_FASTA_GENE\\Gene\\Multidrug/erm(C).csv\n",
      "Saved rows with Gene symbol 'oqxA' to C:\\Users\\liuwa\\Desktop\\AMRFINDER_FASTA_GENE\\Gene\\Multidrug/oqxA.csv\n",
      "Saved rows with Gene symbol 'oqxA10' to C:\\Users\\liuwa\\Desktop\\AMRFINDER_FASTA_GENE\\Gene\\Multidrug/oqxA10.csv\n",
      "Saved rows with Gene symbol 'oqxA11' to C:\\Users\\liuwa\\Desktop\\AMRFINDER_FASTA_GENE\\Gene\\Multidrug/oqxA11.csv\n",
      "Saved rows with Gene symbol 'oqxB' to C:\\Users\\liuwa\\Desktop\\AMRFINDER_FASTA_GENE\\Gene\\Multidrug/oqxB.csv\n",
      "Saved rows with Gene symbol 'oqxB19' to C:\\Users\\liuwa\\Desktop\\AMRFINDER_FASTA_GENE\\Gene\\Multidrug/oqxB19.csv\n",
      "Saved rows with Gene symbol 'oqxB25' to C:\\Users\\liuwa\\Desktop\\AMRFINDER_FASTA_GENE\\Gene\\Multidrug/oqxB25.csv\n"
     ]
    }
   ],
   "source": [
    "input_file = \"merged_file.csv\"\n",
    "output_folder = r\"C:\\Users\\liuwa\\Desktop\\AMRFINDER_FASTA_GENE\\Gene\\Multidrug\"\n",
    "\n",
    "gene_symbols = [\"mepA\", \"cyaA\",\"glpT\",\"acrF\",\"mdtM\",\"emrD\",\"erm(B)\",\"erm(C)\",\"oqxA\",\"oqxA10\",\"oqxA11\",\"oqxB\",\"oqxB19\",\"oqxB25\"]\n",
    "\n",
    "df = pd.read_csv(input_file)\n",
    "\n",
    "for symbol in gene_symbols:\n",
    "    filtered_df = df[df[\"Gene symbol\"] == symbol]\n",
    "\n",
    "    output_file = f\"{output_folder}/{symbol}.csv\"\n",
    "    filtered_df.to_csv(output_file, index=False)\n",
    "    print(f\"Saved rows with Gene symbol '{symbol}' to {output_file}\")"
   ]
  },
  {
   "cell_type": "code",
   "execution_count": 53,
   "metadata": {},
   "outputs": [
    {
     "name": "stdout",
     "output_type": "stream",
     "text": [
      "Saved rows with Gene symbol 'arr-2' to C:\\Users\\liuwa\\Desktop\\AMRFINDER_FASTA_GENE\\Gene\\Ansamycins/arr-2.csv\n",
      "Saved rows with Gene symbol 'arr-3' to C:\\Users\\liuwa\\Desktop\\AMRFINDER_FASTA_GENE\\Gene\\Ansamycins/arr-3.csv\n"
     ]
    }
   ],
   "source": [
    "input_file = \"merged_file.csv\"\n",
    "output_folder = r\"C:\\Users\\liuwa\\Desktop\\AMRFINDER_FASTA_GENE\\Gene\\Ansamycins\"\n",
    "\n",
    "gene_symbols = [\"arr-2\",\"arr-3\"]\n",
    "\n",
    "df = pd.read_csv(input_file)\n",
    "\n",
    "for symbol in gene_symbols:\n",
    "    filtered_df = df[df[\"Gene symbol\"] == symbol]\n",
    "\n",
    "    output_file = f\"{output_folder}/{symbol}.csv\"\n",
    "    filtered_df.to_csv(output_file, index=False)\n",
    "    print(f\"Saved rows with Gene symbol '{symbol}' to {output_file}\")"
   ]
  },
  {
   "cell_type": "code",
   "execution_count": 70,
   "metadata": {},
   "outputs": [],
   "source": [
    "import pandas as pd\n",
    "from Bio import SeqIO\n",
    "from Bio.SeqRecord import SeqRecord"
   ]
  },
  {
   "cell_type": "code",
   "execution_count": 59,
   "metadata": {},
   "outputs": [],
   "source": [
    "input_file = \"merged_file.csv\"\n",
    "output_folder = r\"C:\\Users\\liuwa\\Desktop\\AMRFINDER_FASTA_GENE\\Gene\\Multidrug\"\n",
    "search_string = \"glpT_\"\n",
    "filtered_df = df[df[\"Gene symbol\"].str.contains(search_string)]\n",
    "output_file = r\"C:\\Users\\liuwa\\Desktop\\AMRFINDER_FASTA_GENE\\Gene\\Multidrug\\glpT.csv\"\n",
    "filtered_df.to_csv(output_file, index=False)"
   ]
  },
  {
   "cell_type": "code",
   "execution_count": 151,
   "metadata": {},
   "outputs": [
    {
     "data": {
      "text/plain": [
       "15"
      ]
     },
     "execution_count": 151,
     "metadata": {},
     "output_type": "execute_result"
    }
   ],
   "source": [
    "input_file = r\"C:\\Users\\liuwa\\Desktop\\AMRFINDER_FASTA_GENE\\Gene\\Tetracyclines\\tet(M).csv\"\n",
    "fasta_folder = r\"C:\\Users\\liuwa\\Desktop\\AMRFINDER_FASTA_GENE\\FASTA_264\"\n",
    "output_file = r\"C:\\Users\\liuwa\\Desktop\\AMRFINDER_FASTA_GENE\\Gene_sequence\\Tetracyclines\\tet(M).fasta\"\n",
    "df = pd.read_csv(input_file)\n",
    "output_sequences = []\n",
    "for index, row in df.iterrows():\n",
    "    fasta_filename = row[\"filename\"]+\".fasta\"\n",
    "    input_fasta_file = os.path.join(fasta_folder, fasta_filename)\n",
    "    contigs = SeqIO.to_dict(SeqIO.parse(input_fasta_file, \"fasta\"))\n",
    "    contig_id = str(row[\"Contig id\"])\n",
    "    start = row[\"Start\"]\n",
    "    stop = row[\"Stop\"]\n",
    "    strand = row[\"Strand\"]\n",
    "    contig_sequence = contigs[contig_id].seq\n",
    "    extracted_sequence = contig_sequence[start - 1:stop]\n",
    "    if strand == \"-\":\n",
    "        extracted_sequence = extracted_sequence.reverse_complement()\n",
    "    \n",
    "    output_seq_record = SeqRecord(extracted_sequence, id=row[\"filename\"], description=\"\")\n",
    "    output_sequences.append(output_seq_record)\n",
    "\n",
    "SeqIO.write(output_sequences, output_file, \"fasta\")\n"
   ]
  }
 ],
 "metadata": {
  "kernelspec": {
   "display_name": "Python 3",
   "language": "python",
   "name": "python3"
  },
  "language_info": {
   "codemirror_mode": {
    "name": "ipython",
    "version": 3
   },
   "file_extension": ".py",
   "mimetype": "text/x-python",
   "name": "python",
   "nbconvert_exporter": "python",
   "pygments_lexer": "ipython3",
   "version": "3.11.9"
  }
 },
 "nbformat": 4,
 "nbformat_minor": 2
}
